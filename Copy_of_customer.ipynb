{
  "nbformat": 4,
  "nbformat_minor": 0,
  "metadata": {
    "colab": {
      "provenance": [],
      "mount_file_id": "1y6Mk-R9FEp5i5X_h4ztUP5Nr4LGpLjgo",
      "authorship_tag": "ABX9TyP+W0k6GszccJNROoZVVk56",
      "include_colab_link": true
    },
    "kernelspec": {
      "name": "python3",
      "display_name": "Python 3"
    },
    "language_info": {
      "name": "python"
    }
  },
  "cells": [
    {
      "cell_type": "markdown",
      "metadata": {
        "id": "view-in-github",
        "colab_type": "text"
      },
      "source": [
        "<a href=\"https://colab.research.google.com/github/akanshachabra/customer_segmentation/blob/main/Copy_of_customer.ipynb\" target=\"_parent\"><img src=\"https://colab.research.google.com/assets/colab-badge.svg\" alt=\"Open In Colab\"/></a>"
      ]
    },
    {
      "cell_type": "markdown",
      "source": [
        "First Importing the dependencies"
      ],
      "metadata": {
        "id": "CJMqY6Nu2gLr"
      }
    },
    {
      "cell_type": "code",
      "source": [
        "import numpy as np\n",
        "import pandas as pd\n",
        "import matplotlib.pyplot as plt\n",
        "import seaborn as sns\n",
        "from sklearn.cluster import KMeans"
      ],
      "metadata": {
        "id": "lLuaU85w2kqe"
      },
      "execution_count": null,
      "outputs": []
    },
    {
      "cell_type": "markdown",
      "source": [
        "Data collection and Analysis"
      ],
      "metadata": {
        "id": "ceMzdBSN3HC5"
      }
    },
    {
      "cell_type": "code",
      "source": [
        "#loading the data from csv file to a pandas Dataframe\n",
        "customer_data=pd.read_csv('/content/customer_segmentation_data.csv')"
      ],
      "metadata": {
        "id": "hAGk6xhN3PcJ"
      },
      "execution_count": null,
      "outputs": []
    },
    {
      "cell_type": "code",
      "source": [
        "#first five rows in the dataframe\n",
        "customer_data.head()"
      ],
      "metadata": {
        "colab": {
          "base_uri": "https://localhost:8080/",
          "height": 206
        },
        "id": "Thrqk-Ak4NYv",
        "outputId": "ec48ed6e-39a2-48c7-ec84-94a1459287ea"
      },
      "execution_count": null,
      "outputs": [
        {
          "output_type": "execute_result",
          "data": {
            "text/plain": [
              "   id  age  gender  income  spending_score  membership_years  \\\n",
              "0   1   38  Female   99342              90                 3   \n",
              "1   2   21  Female   78852              60                 2   \n",
              "2   3   60  Female  126573              30                 2   \n",
              "3   4   40   Other   47099              74                 9   \n",
              "4   5   65  Female  140621              21                 3   \n",
              "\n",
              "   purchase_frequency preferred_category  last_purchase_amount  \n",
              "0                  24          Groceries                113.53  \n",
              "1                  42             Sports                 41.93  \n",
              "2                  28           Clothing                424.36  \n",
              "3                   5      Home & Garden                991.93  \n",
              "4                  25        Electronics                347.08  "
            ],
            "text/html": [
              "\n",
              "  <div id=\"df-619c8ac1-6e3b-4d03-a3df-7702ce7af7fa\" class=\"colab-df-container\">\n",
              "    <div>\n",
              "<style scoped>\n",
              "    .dataframe tbody tr th:only-of-type {\n",
              "        vertical-align: middle;\n",
              "    }\n",
              "\n",
              "    .dataframe tbody tr th {\n",
              "        vertical-align: top;\n",
              "    }\n",
              "\n",
              "    .dataframe thead th {\n",
              "        text-align: right;\n",
              "    }\n",
              "</style>\n",
              "<table border=\"1\" class=\"dataframe\">\n",
              "  <thead>\n",
              "    <tr style=\"text-align: right;\">\n",
              "      <th></th>\n",
              "      <th>id</th>\n",
              "      <th>age</th>\n",
              "      <th>gender</th>\n",
              "      <th>income</th>\n",
              "      <th>spending_score</th>\n",
              "      <th>membership_years</th>\n",
              "      <th>purchase_frequency</th>\n",
              "      <th>preferred_category</th>\n",
              "      <th>last_purchase_amount</th>\n",
              "    </tr>\n",
              "  </thead>\n",
              "  <tbody>\n",
              "    <tr>\n",
              "      <th>0</th>\n",
              "      <td>1</td>\n",
              "      <td>38</td>\n",
              "      <td>Female</td>\n",
              "      <td>99342</td>\n",
              "      <td>90</td>\n",
              "      <td>3</td>\n",
              "      <td>24</td>\n",
              "      <td>Groceries</td>\n",
              "      <td>113.53</td>\n",
              "    </tr>\n",
              "    <tr>\n",
              "      <th>1</th>\n",
              "      <td>2</td>\n",
              "      <td>21</td>\n",
              "      <td>Female</td>\n",
              "      <td>78852</td>\n",
              "      <td>60</td>\n",
              "      <td>2</td>\n",
              "      <td>42</td>\n",
              "      <td>Sports</td>\n",
              "      <td>41.93</td>\n",
              "    </tr>\n",
              "    <tr>\n",
              "      <th>2</th>\n",
              "      <td>3</td>\n",
              "      <td>60</td>\n",
              "      <td>Female</td>\n",
              "      <td>126573</td>\n",
              "      <td>30</td>\n",
              "      <td>2</td>\n",
              "      <td>28</td>\n",
              "      <td>Clothing</td>\n",
              "      <td>424.36</td>\n",
              "    </tr>\n",
              "    <tr>\n",
              "      <th>3</th>\n",
              "      <td>4</td>\n",
              "      <td>40</td>\n",
              "      <td>Other</td>\n",
              "      <td>47099</td>\n",
              "      <td>74</td>\n",
              "      <td>9</td>\n",
              "      <td>5</td>\n",
              "      <td>Home &amp; Garden</td>\n",
              "      <td>991.93</td>\n",
              "    </tr>\n",
              "    <tr>\n",
              "      <th>4</th>\n",
              "      <td>5</td>\n",
              "      <td>65</td>\n",
              "      <td>Female</td>\n",
              "      <td>140621</td>\n",
              "      <td>21</td>\n",
              "      <td>3</td>\n",
              "      <td>25</td>\n",
              "      <td>Electronics</td>\n",
              "      <td>347.08</td>\n",
              "    </tr>\n",
              "  </tbody>\n",
              "</table>\n",
              "</div>\n",
              "    <div class=\"colab-df-buttons\">\n",
              "\n",
              "  <div class=\"colab-df-container\">\n",
              "    <button class=\"colab-df-convert\" onclick=\"convertToInteractive('df-619c8ac1-6e3b-4d03-a3df-7702ce7af7fa')\"\n",
              "            title=\"Convert this dataframe to an interactive table.\"\n",
              "            style=\"display:none;\">\n",
              "\n",
              "  <svg xmlns=\"http://www.w3.org/2000/svg\" height=\"24px\" viewBox=\"0 -960 960 960\">\n",
              "    <path d=\"M120-120v-720h720v720H120Zm60-500h600v-160H180v160Zm220 220h160v-160H400v160Zm0 220h160v-160H400v160ZM180-400h160v-160H180v160Zm440 0h160v-160H620v160ZM180-180h160v-160H180v160Zm440 0h160v-160H620v160Z\"/>\n",
              "  </svg>\n",
              "    </button>\n",
              "\n",
              "  <style>\n",
              "    .colab-df-container {\n",
              "      display:flex;\n",
              "      gap: 12px;\n",
              "    }\n",
              "\n",
              "    .colab-df-convert {\n",
              "      background-color: #E8F0FE;\n",
              "      border: none;\n",
              "      border-radius: 50%;\n",
              "      cursor: pointer;\n",
              "      display: none;\n",
              "      fill: #1967D2;\n",
              "      height: 32px;\n",
              "      padding: 0 0 0 0;\n",
              "      width: 32px;\n",
              "    }\n",
              "\n",
              "    .colab-df-convert:hover {\n",
              "      background-color: #E2EBFA;\n",
              "      box-shadow: 0px 1px 2px rgba(60, 64, 67, 0.3), 0px 1px 3px 1px rgba(60, 64, 67, 0.15);\n",
              "      fill: #174EA6;\n",
              "    }\n",
              "\n",
              "    .colab-df-buttons div {\n",
              "      margin-bottom: 4px;\n",
              "    }\n",
              "\n",
              "    [theme=dark] .colab-df-convert {\n",
              "      background-color: #3B4455;\n",
              "      fill: #D2E3FC;\n",
              "    }\n",
              "\n",
              "    [theme=dark] .colab-df-convert:hover {\n",
              "      background-color: #434B5C;\n",
              "      box-shadow: 0px 1px 3px 1px rgba(0, 0, 0, 0.15);\n",
              "      filter: drop-shadow(0px 1px 2px rgba(0, 0, 0, 0.3));\n",
              "      fill: #FFFFFF;\n",
              "    }\n",
              "  </style>\n",
              "\n",
              "    <script>\n",
              "      const buttonEl =\n",
              "        document.querySelector('#df-619c8ac1-6e3b-4d03-a3df-7702ce7af7fa button.colab-df-convert');\n",
              "      buttonEl.style.display =\n",
              "        google.colab.kernel.accessAllowed ? 'block' : 'none';\n",
              "\n",
              "      async function convertToInteractive(key) {\n",
              "        const element = document.querySelector('#df-619c8ac1-6e3b-4d03-a3df-7702ce7af7fa');\n",
              "        const dataTable =\n",
              "          await google.colab.kernel.invokeFunction('convertToInteractive',\n",
              "                                                    [key], {});\n",
              "        if (!dataTable) return;\n",
              "\n",
              "        const docLinkHtml = 'Like what you see? Visit the ' +\n",
              "          '<a target=\"_blank\" href=https://colab.research.google.com/notebooks/data_table.ipynb>data table notebook</a>'\n",
              "          + ' to learn more about interactive tables.';\n",
              "        element.innerHTML = '';\n",
              "        dataTable['output_type'] = 'display_data';\n",
              "        await google.colab.output.renderOutput(dataTable, element);\n",
              "        const docLink = document.createElement('div');\n",
              "        docLink.innerHTML = docLinkHtml;\n",
              "        element.appendChild(docLink);\n",
              "      }\n",
              "    </script>\n",
              "  </div>\n",
              "\n",
              "\n",
              "<div id=\"df-aa061d51-49a0-45a2-bc71-91b94be4b424\">\n",
              "  <button class=\"colab-df-quickchart\" onclick=\"quickchart('df-aa061d51-49a0-45a2-bc71-91b94be4b424')\"\n",
              "            title=\"Suggest charts\"\n",
              "            style=\"display:none;\">\n",
              "\n",
              "<svg xmlns=\"http://www.w3.org/2000/svg\" height=\"24px\"viewBox=\"0 0 24 24\"\n",
              "     width=\"24px\">\n",
              "    <g>\n",
              "        <path d=\"M19 3H5c-1.1 0-2 .9-2 2v14c0 1.1.9 2 2 2h14c1.1 0 2-.9 2-2V5c0-1.1-.9-2-2-2zM9 17H7v-7h2v7zm4 0h-2V7h2v10zm4 0h-2v-4h2v4z\"/>\n",
              "    </g>\n",
              "</svg>\n",
              "  </button>\n",
              "\n",
              "<style>\n",
              "  .colab-df-quickchart {\n",
              "      --bg-color: #E8F0FE;\n",
              "      --fill-color: #1967D2;\n",
              "      --hover-bg-color: #E2EBFA;\n",
              "      --hover-fill-color: #174EA6;\n",
              "      --disabled-fill-color: #AAA;\n",
              "      --disabled-bg-color: #DDD;\n",
              "  }\n",
              "\n",
              "  [theme=dark] .colab-df-quickchart {\n",
              "      --bg-color: #3B4455;\n",
              "      --fill-color: #D2E3FC;\n",
              "      --hover-bg-color: #434B5C;\n",
              "      --hover-fill-color: #FFFFFF;\n",
              "      --disabled-bg-color: #3B4455;\n",
              "      --disabled-fill-color: #666;\n",
              "  }\n",
              "\n",
              "  .colab-df-quickchart {\n",
              "    background-color: var(--bg-color);\n",
              "    border: none;\n",
              "    border-radius: 50%;\n",
              "    cursor: pointer;\n",
              "    display: none;\n",
              "    fill: var(--fill-color);\n",
              "    height: 32px;\n",
              "    padding: 0;\n",
              "    width: 32px;\n",
              "  }\n",
              "\n",
              "  .colab-df-quickchart:hover {\n",
              "    background-color: var(--hover-bg-color);\n",
              "    box-shadow: 0 1px 2px rgba(60, 64, 67, 0.3), 0 1px 3px 1px rgba(60, 64, 67, 0.15);\n",
              "    fill: var(--button-hover-fill-color);\n",
              "  }\n",
              "\n",
              "  .colab-df-quickchart-complete:disabled,\n",
              "  .colab-df-quickchart-complete:disabled:hover {\n",
              "    background-color: var(--disabled-bg-color);\n",
              "    fill: var(--disabled-fill-color);\n",
              "    box-shadow: none;\n",
              "  }\n",
              "\n",
              "  .colab-df-spinner {\n",
              "    border: 2px solid var(--fill-color);\n",
              "    border-color: transparent;\n",
              "    border-bottom-color: var(--fill-color);\n",
              "    animation:\n",
              "      spin 1s steps(1) infinite;\n",
              "  }\n",
              "\n",
              "  @keyframes spin {\n",
              "    0% {\n",
              "      border-color: transparent;\n",
              "      border-bottom-color: var(--fill-color);\n",
              "      border-left-color: var(--fill-color);\n",
              "    }\n",
              "    20% {\n",
              "      border-color: transparent;\n",
              "      border-left-color: var(--fill-color);\n",
              "      border-top-color: var(--fill-color);\n",
              "    }\n",
              "    30% {\n",
              "      border-color: transparent;\n",
              "      border-left-color: var(--fill-color);\n",
              "      border-top-color: var(--fill-color);\n",
              "      border-right-color: var(--fill-color);\n",
              "    }\n",
              "    40% {\n",
              "      border-color: transparent;\n",
              "      border-right-color: var(--fill-color);\n",
              "      border-top-color: var(--fill-color);\n",
              "    }\n",
              "    60% {\n",
              "      border-color: transparent;\n",
              "      border-right-color: var(--fill-color);\n",
              "    }\n",
              "    80% {\n",
              "      border-color: transparent;\n",
              "      border-right-color: var(--fill-color);\n",
              "      border-bottom-color: var(--fill-color);\n",
              "    }\n",
              "    90% {\n",
              "      border-color: transparent;\n",
              "      border-bottom-color: var(--fill-color);\n",
              "    }\n",
              "  }\n",
              "</style>\n",
              "\n",
              "  <script>\n",
              "    async function quickchart(key) {\n",
              "      const quickchartButtonEl =\n",
              "        document.querySelector('#' + key + ' button');\n",
              "      quickchartButtonEl.disabled = true;  // To prevent multiple clicks.\n",
              "      quickchartButtonEl.classList.add('colab-df-spinner');\n",
              "      try {\n",
              "        const charts = await google.colab.kernel.invokeFunction(\n",
              "            'suggestCharts', [key], {});\n",
              "      } catch (error) {\n",
              "        console.error('Error during call to suggestCharts:', error);\n",
              "      }\n",
              "      quickchartButtonEl.classList.remove('colab-df-spinner');\n",
              "      quickchartButtonEl.classList.add('colab-df-quickchart-complete');\n",
              "    }\n",
              "    (() => {\n",
              "      let quickchartButtonEl =\n",
              "        document.querySelector('#df-aa061d51-49a0-45a2-bc71-91b94be4b424 button');\n",
              "      quickchartButtonEl.style.display =\n",
              "        google.colab.kernel.accessAllowed ? 'block' : 'none';\n",
              "    })();\n",
              "  </script>\n",
              "</div>\n",
              "\n",
              "    </div>\n",
              "  </div>\n"
            ],
            "application/vnd.google.colaboratory.intrinsic+json": {
              "type": "dataframe",
              "variable_name": "customer_data",
              "summary": "{\n  \"name\": \"customer_data\",\n  \"rows\": 1000,\n  \"fields\": [\n    {\n      \"column\": \"id\",\n      \"properties\": {\n        \"dtype\": \"number\",\n        \"std\": 288,\n        \"min\": 1,\n        \"max\": 1000,\n        \"num_unique_values\": 1000,\n        \"samples\": [\n          522,\n          738,\n          741\n        ],\n        \"semantic_type\": \"\",\n        \"description\": \"\"\n      }\n    },\n    {\n      \"column\": \"age\",\n      \"properties\": {\n        \"dtype\": \"number\",\n        \"std\": 15,\n        \"min\": 18,\n        \"max\": 69,\n        \"num_unique_values\": 52,\n        \"samples\": [\n          41,\n          59,\n          66\n        ],\n        \"semantic_type\": \"\",\n        \"description\": \"\"\n      }\n    },\n    {\n      \"column\": \"gender\",\n      \"properties\": {\n        \"dtype\": \"category\",\n        \"num_unique_values\": 3,\n        \"samples\": [\n          \"Female\",\n          \"Other\",\n          \"Male\"\n        ],\n        \"semantic_type\": \"\",\n        \"description\": \"\"\n      }\n    },\n    {\n      \"column\": \"income\",\n      \"properties\": {\n        \"dtype\": \"number\",\n        \"std\": 34230,\n        \"min\": 30004,\n        \"max\": 149973,\n        \"num_unique_values\": 996,\n        \"samples\": [\n          68147,\n          79546,\n          102834\n        ],\n        \"semantic_type\": \"\",\n        \"description\": \"\"\n      }\n    },\n    {\n      \"column\": \"spending_score\",\n      \"properties\": {\n        \"dtype\": \"number\",\n        \"std\": 28,\n        \"min\": 1,\n        \"max\": 100,\n        \"num_unique_values\": 100,\n        \"samples\": [\n          41,\n          4,\n          44\n        ],\n        \"semantic_type\": \"\",\n        \"description\": \"\"\n      }\n    },\n    {\n      \"column\": \"membership_years\",\n      \"properties\": {\n        \"dtype\": \"number\",\n        \"std\": 2,\n        \"min\": 1,\n        \"max\": 10,\n        \"num_unique_values\": 10,\n        \"samples\": [\n          10,\n          2,\n          7\n        ],\n        \"semantic_type\": \"\",\n        \"description\": \"\"\n      }\n    },\n    {\n      \"column\": \"purchase_frequency\",\n      \"properties\": {\n        \"dtype\": \"number\",\n        \"std\": 14,\n        \"min\": 1,\n        \"max\": 50,\n        \"num_unique_values\": 50,\n        \"samples\": [\n          26,\n          14,\n          50\n        ],\n        \"semantic_type\": \"\",\n        \"description\": \"\"\n      }\n    },\n    {\n      \"column\": \"preferred_category\",\n      \"properties\": {\n        \"dtype\": \"category\",\n        \"num_unique_values\": 5,\n        \"samples\": [\n          \"Sports\",\n          \"Electronics\",\n          \"Clothing\"\n        ],\n        \"semantic_type\": \"\",\n        \"description\": \"\"\n      }\n    },\n    {\n      \"column\": \"last_purchase_amount\",\n      \"properties\": {\n        \"dtype\": \"number\",\n        \"std\": 295.7442525647052,\n        \"min\": 10.4,\n        \"max\": 999.74,\n        \"num_unique_values\": 994,\n        \"samples\": [\n          12.45,\n          826.02,\n          760.34\n        ],\n        \"semantic_type\": \"\",\n        \"description\": \"\"\n      }\n    }\n  ]\n}"
            }
          },
          "metadata": {},
          "execution_count": 4
        }
      ]
    },
    {
      "cell_type": "code",
      "source": [
        "#finding the no.of rows and columns\n",
        "customer_data.shape"
      ],
      "metadata": {
        "colab": {
          "base_uri": "https://localhost:8080/"
        },
        "id": "37MIEM764WS4",
        "outputId": "819c3f0b-ac10-4540-cff8-3a358e07d23f"
      },
      "execution_count": null,
      "outputs": [
        {
          "output_type": "execute_result",
          "data": {
            "text/plain": [
              "(1000, 9)"
            ]
          },
          "metadata": {},
          "execution_count": 6
        }
      ]
    },
    {
      "cell_type": "code",
      "source": [
        "#getting some info about the dataset\n",
        "customer_data.info()"
      ],
      "metadata": {
        "colab": {
          "base_uri": "https://localhost:8080/"
        },
        "id": "YMp_SmS14ow3",
        "outputId": "5b680051-e571-4e81-cae9-2d144b04b036"
      },
      "execution_count": null,
      "outputs": [
        {
          "output_type": "stream",
          "name": "stdout",
          "text": [
            "<class 'pandas.core.frame.DataFrame'>\n",
            "RangeIndex: 1000 entries, 0 to 999\n",
            "Data columns (total 9 columns):\n",
            " #   Column                Non-Null Count  Dtype  \n",
            "---  ------                --------------  -----  \n",
            " 0   id                    1000 non-null   int64  \n",
            " 1   age                   1000 non-null   int64  \n",
            " 2   gender                1000 non-null   object \n",
            " 3   income                1000 non-null   int64  \n",
            " 4   spending_score        1000 non-null   int64  \n",
            " 5   membership_years      1000 non-null   int64  \n",
            " 6   purchase_frequency    1000 non-null   int64  \n",
            " 7   preferred_category    1000 non-null   object \n",
            " 8   last_purchase_amount  1000 non-null   float64\n",
            "dtypes: float64(1), int64(6), object(2)\n",
            "memory usage: 70.4+ KB\n"
          ]
        }
      ]
    },
    {
      "cell_type": "code",
      "source": [
        "#checking for missing values\n",
        "customer_data.isnull().sum()"
      ],
      "metadata": {
        "colab": {
          "base_uri": "https://localhost:8080/",
          "height": 366
        },
        "id": "zeXob3bZ443T",
        "outputId": "09ba70dc-f5dd-4c8a-aec5-c6e6ea721379"
      },
      "execution_count": null,
      "outputs": [
        {
          "output_type": "execute_result",
          "data": {
            "text/plain": [
              "id                      0\n",
              "age                     0\n",
              "gender                  0\n",
              "income                  0\n",
              "spending_score          0\n",
              "membership_years        0\n",
              "purchase_frequency      0\n",
              "preferred_category      0\n",
              "last_purchase_amount    0\n",
              "dtype: int64"
            ],
            "text/html": [
              "<div>\n",
              "<style scoped>\n",
              "    .dataframe tbody tr th:only-of-type {\n",
              "        vertical-align: middle;\n",
              "    }\n",
              "\n",
              "    .dataframe tbody tr th {\n",
              "        vertical-align: top;\n",
              "    }\n",
              "\n",
              "    .dataframe thead th {\n",
              "        text-align: right;\n",
              "    }\n",
              "</style>\n",
              "<table border=\"1\" class=\"dataframe\">\n",
              "  <thead>\n",
              "    <tr style=\"text-align: right;\">\n",
              "      <th></th>\n",
              "      <th>0</th>\n",
              "    </tr>\n",
              "  </thead>\n",
              "  <tbody>\n",
              "    <tr>\n",
              "      <th>id</th>\n",
              "      <td>0</td>\n",
              "    </tr>\n",
              "    <tr>\n",
              "      <th>age</th>\n",
              "      <td>0</td>\n",
              "    </tr>\n",
              "    <tr>\n",
              "      <th>gender</th>\n",
              "      <td>0</td>\n",
              "    </tr>\n",
              "    <tr>\n",
              "      <th>income</th>\n",
              "      <td>0</td>\n",
              "    </tr>\n",
              "    <tr>\n",
              "      <th>spending_score</th>\n",
              "      <td>0</td>\n",
              "    </tr>\n",
              "    <tr>\n",
              "      <th>membership_years</th>\n",
              "      <td>0</td>\n",
              "    </tr>\n",
              "    <tr>\n",
              "      <th>purchase_frequency</th>\n",
              "      <td>0</td>\n",
              "    </tr>\n",
              "    <tr>\n",
              "      <th>preferred_category</th>\n",
              "      <td>0</td>\n",
              "    </tr>\n",
              "    <tr>\n",
              "      <th>last_purchase_amount</th>\n",
              "      <td>0</td>\n",
              "    </tr>\n",
              "  </tbody>\n",
              "</table>\n",
              "</div><br><label><b>dtype:</b> int64</label>"
            ]
          },
          "metadata": {},
          "execution_count": 9
        }
      ]
    },
    {
      "cell_type": "markdown",
      "source": [
        "choosing the income column and spending score column\n"
      ],
      "metadata": {
        "id": "85zWzVWR5btA"
      }
    },
    {
      "cell_type": "code",
      "source": [
        "x=customer_data.iloc[:,[3,4]].values"
      ],
      "metadata": {
        "id": "a3yOoQPR8GoV"
      },
      "execution_count": null,
      "outputs": []
    },
    {
      "cell_type": "code",
      "source": [
        "print(x)"
      ],
      "metadata": {
        "colab": {
          "base_uri": "https://localhost:8080/"
        },
        "id": "d0Q-S0Mz8TQF",
        "outputId": "85057967-c4d1-4a94-ae99-5ebcc060d470"
      },
      "execution_count": null,
      "outputs": [
        {
          "output_type": "stream",
          "name": "stdout",
          "text": [
            "[[ 99342     90]\n",
            " [ 78852     60]\n",
            " [126573     30]\n",
            " ...\n",
            " [113097     40]\n",
            " [113695     63]\n",
            " [ 90420      7]]\n"
          ]
        }
      ]
    },
    {
      "cell_type": "markdown",
      "source": [
        "choosing the no. of clusters\n",
        "#wcss->within clusters sum of squares\n",
        "#elbow method (find wcsss values for different no. of clusters)"
      ],
      "metadata": {
        "id": "Hr2MVdZg8l1e"
      }
    },
    {
      "cell_type": "code",
      "source": [
        "wcss=[]\n",
        "\n",
        "for i in range(1,11):\n",
        "   kmeans=KMeans(n_clusters=i,init='k-means++',random_state=42)\n",
        "   kmeans.fit(x)\n",
        "   wcss.append(kmeans.inertia_)"
      ],
      "metadata": {
        "colab": {
          "base_uri": "https://localhost:8080/"
        },
        "id": "eL44kEHY8-nw",
        "outputId": "242c6055-df6f-4de4-b3b4-ac7bb0469352"
      },
      "execution_count": null,
      "outputs": [
        {
          "output_type": "stream",
          "name": "stderr",
          "text": [
            "/usr/local/lib/python3.10/dist-packages/sklearn/cluster/_kmeans.py:1416: FutureWarning: The default value of `n_init` will change from 10 to 'auto' in 1.4. Set the value of `n_init` explicitly to suppress the warning\n",
            "  super()._check_params_vs_input(X, default_n_init=10)\n",
            "/usr/local/lib/python3.10/dist-packages/sklearn/cluster/_kmeans.py:1416: FutureWarning: The default value of `n_init` will change from 10 to 'auto' in 1.4. Set the value of `n_init` explicitly to suppress the warning\n",
            "  super()._check_params_vs_input(X, default_n_init=10)\n",
            "/usr/local/lib/python3.10/dist-packages/sklearn/cluster/_kmeans.py:1416: FutureWarning: The default value of `n_init` will change from 10 to 'auto' in 1.4. Set the value of `n_init` explicitly to suppress the warning\n",
            "  super()._check_params_vs_input(X, default_n_init=10)\n",
            "/usr/local/lib/python3.10/dist-packages/sklearn/cluster/_kmeans.py:1416: FutureWarning: The default value of `n_init` will change from 10 to 'auto' in 1.4. Set the value of `n_init` explicitly to suppress the warning\n",
            "  super()._check_params_vs_input(X, default_n_init=10)\n",
            "/usr/local/lib/python3.10/dist-packages/sklearn/cluster/_kmeans.py:1416: FutureWarning: The default value of `n_init` will change from 10 to 'auto' in 1.4. Set the value of `n_init` explicitly to suppress the warning\n",
            "  super()._check_params_vs_input(X, default_n_init=10)\n",
            "/usr/local/lib/python3.10/dist-packages/sklearn/cluster/_kmeans.py:1416: FutureWarning: The default value of `n_init` will change from 10 to 'auto' in 1.4. Set the value of `n_init` explicitly to suppress the warning\n",
            "  super()._check_params_vs_input(X, default_n_init=10)\n",
            "/usr/local/lib/python3.10/dist-packages/sklearn/cluster/_kmeans.py:1416: FutureWarning: The default value of `n_init` will change from 10 to 'auto' in 1.4. Set the value of `n_init` explicitly to suppress the warning\n",
            "  super()._check_params_vs_input(X, default_n_init=10)\n",
            "/usr/local/lib/python3.10/dist-packages/sklearn/cluster/_kmeans.py:1416: FutureWarning: The default value of `n_init` will change from 10 to 'auto' in 1.4. Set the value of `n_init` explicitly to suppress the warning\n",
            "  super()._check_params_vs_input(X, default_n_init=10)\n",
            "/usr/local/lib/python3.10/dist-packages/sklearn/cluster/_kmeans.py:1416: FutureWarning: The default value of `n_init` will change from 10 to 'auto' in 1.4. Set the value of `n_init` explicitly to suppress the warning\n",
            "  super()._check_params_vs_input(X, default_n_init=10)\n",
            "/usr/local/lib/python3.10/dist-packages/sklearn/cluster/_kmeans.py:1416: FutureWarning: The default value of `n_init` will change from 10 to 'auto' in 1.4. Set the value of `n_init` explicitly to suppress the warning\n",
            "  super()._check_params_vs_input(X, default_n_init=10)\n"
          ]
        }
      ]
    },
    {
      "cell_type": "code",
      "source": [
        "#plot an elbow graph\n",
        "sns.set()\n",
        "plt.plot(range(1,11),wcss)\n",
        "plt.title(\"The elbow point graph\")\n",
        "plt.xlabel(\"No.of clusters\")\n",
        "plt.ylabel(\"wcss\")\n",
        "plt.show()"
      ],
      "metadata": {
        "colab": {
          "base_uri": "https://localhost:8080/",
          "height": 480
        },
        "id": "EPCUJpfE9ray",
        "outputId": "3fc7f805-2b49-40da-8416-e7817d5802c9"
      },
      "execution_count": null,
      "outputs": [
        {
          "output_type": "display_data",
          "data": {
            "text/plain": [
              "<Figure size 640x480 with 1 Axes>"
            ],
            "image/png": "[encoded data removed]"
          },
          "metadata": {}
        }
      ]
    },
    {
      "cell_type": "markdown",
      "source": [
        "optimum no. of clusters=4"
      ],
      "metadata": {
        "id": "MahaH3ttC9eW"
      }
    },
    {
      "cell_type": "code",
      "source": [
        "\n",
        "#training the k-means clustering model\n",
        "# k represent the no of clustering modelnow k=4\n",
        "\n",
        "kmeans=KMeans(n_clusters=4,init='k-means++',random_state=0)\n",
        "\n",
        "#return a label for each data point based on their clusters\n",
        "\n",
        "y=kmeans.fit_predict(x)\n",
        "print(y)"
      ],
      "metadata": {
        "colab": {
          "base_uri": "https://localhost:8080/"
        },
        "id": "xuHcxHZLBG-K",
        "outputId": "9b22a4aa-3a40-4325-9d59-d6350177f04f"
      },
      "execution_count": null,
      "outputs": [
        {
          "output_type": "stream",
          "name": "stdout",
          "text": [
            "[1 2 3 0 3 0 0 1 0 0 2 0 2 0 1 3 1 0 1 1 2 0 2 2 0 3 0 0 2 1 2 0 2 2 0 2 1\n",
            " 2 2 1 2 1 2 0 0 1 3 2 2 3 0 1 3 0 2 2 0 1 2 3 2 2 2 2 2 1 3 2 3 0 2 0 1 1\n",
            " 3 3 0 0 1 0 1 3 1 0 1 0 0 0 1 2 2 1 0 1 2 1 1 0 1 0 1 0 2 3 0 3 0 2 2 0 1\n",
            " 2 2 0 2 3 3 0 1 2 1 0 0 0 2 2 0 2 0 3 0 1 1 0 1 3 2 1 1 2 2 0 1 2 3 2 2 1\n",
            " 2 1 3 2 0 2 3 1 0 0 1 2 1 3 2 1 1 0 0 2 0 0 3 1 1 2 2 2 3 3 1 1 2 3 0 2 1\n",
            " 3 3 2 1 0 1 1 0 2 0 1 0 1 2 1 1 0 1 1 3 1 0 2 3 1 2 0 1 2 3 3 2 3 0 3 2 2\n",
            " 3 0 2 0 2 0 0 0 3 3 2 1 0 2 0 3 3 3 0 3 1 1 3 2 0 0 3 2 2 1 3 1 3 0 3 2 0\n",
            " 0 1 0 1 0 3 2 1 1 1 0 0 1 2 1 3 0 1 0 1 0 0 2 1 2 1 3 1 1 2 2 0 0 0 2 3 3\n",
            " 1 3 0 3 1 3 0 2 0 0 3 2 1 1 3 3 0 3 2 0 2 2 0 0 2 3 2 1 2 0 0 2 2 0 2 0 3\n",
            " 1 3 1 0 1 1 0 0 2 0 3 1 1 0 3 0 3 3 0 1 0 2 1 1 3 2 0 3 1 3 3 2 1 2 3 2 0\n",
            " 2 0 2 2 0 0 3 1 0 3 1 1 3 1 2 1 1 1 1 2 1 0 3 2 1 2 0 0 2 3 2 3 3 0 0 3 1\n",
            " 3 2 1 2 2 1 1 0 0 1 1 2 0 2 0 1 3 2 3 0 2 0 3 1 3 1 0 2 3 0 1 1 3 2 2 3 0\n",
            " 2 0 2 0 0 0 3 1 0 3 3 0 1 0 1 1 3 0 0 3 0 3 1 0 1 3 0 0 1 1 1 3 1 3 3 0 1\n",
            " 1 0 0 0 2 1 3 1 1 0 2 1 3 3 2 3 0 0 2 3 0 2 3 0 3 3 2 1 1 1 3 2 0 2 3 1 1\n",
            " 2 0 2 0 0 1 2 3 1 3 3 1 2 3 1 1 0 2 0 0 2 0 1 2 0 3 3 1 1 1 0 0 0 0 0 0 0\n",
            " 0 1 0 1 2 3 3 3 3 1 0 2 0 0 1 0 3 3 2 0 3 0 0 2 3 3 3 0 1 0 3 0 0 2 1 1 1\n",
            " 3 1 0 2 3 0 2 3 3 3 0 2 3 0 1 2 1 2 2 0 0 1 3 0 2 0 2 0 3 1 1 2 0 3 1 1 2\n",
            " 3 1 2 1 3 3 1 2 0 0 1 3 1 2 3 1 1 3 2 3 2 1 1 3 2 0 2 2 3 1 2 0 0 2 0 1 2\n",
            " 3 0 2 0 0 1 0 0 2 0 3 0 1 1 1 3 2 0 1 1 2 1 0 3 2 0 3 0 0 2 1 0 0 0 3 0 0\n",
            " 0 0 1 3 0 1 0 0 3 2 1 2 2 3 1 1 2 1 3 0 1 1 1 2 0 2 2 0 2 0 2 1 3 1 3 1 1\n",
            " 0 0 3 2 2 0 0 0 2 2 0 2 3 0 0 1 3 1 3 2 1 3 1 1 1 2 0 2 2 0 0 2 2 0 0 3 0\n",
            " 2 0 2 3 1 2 2 2 0 0 0 0 1 1 3 3 1 0 2 2 0 1 1 2 1 3 0 1 2 2 3 2 2 2 2 2 3\n",
            " 0 3 1 3 0 2 0 0 2 2 1 1 2 0 1 3 2 2 2 1 2 0 1 1 2 2 3 1 3 3 0 0 3 1 2 3 0\n",
            " 2 1 0 0 3 2 1 0 0 3 2 2 2 1 0 0 2 0 1 3 0 3 1 2 1 3 0 2 1 3 0 1 0 3 1 1 3\n",
            " 3 2 2 0 0 1 3 3 2 2 3 0 3 2 1 3 3 3 1 3 2 0 0 2 0 1 2 3 0 0 0 0 3 1 1 2 0\n",
            " 0 0 3 0 3 0 0 1 3 3 3 0 2 2 0 0 0 3 0 0 3 1 1 3 1 3 0 1 3 0 0 0 0 1 0 0 1\n",
            " 2 1 1 3 2 2 0 0 0 1 3 2 2 0 1 2 2 3 1 2 1 2 2 2 2 3 0 0 2 2 3 2 2 1 2 1 1\n",
            " 2]\n"
          ]
        },
        {
          "output_type": "stream",
          "name": "stderr",
          "text": [
            "/usr/local/lib/python3.10/dist-packages/sklearn/cluster/_kmeans.py:1416: FutureWarning: The default value of `n_init` will change from 10 to 'auto' in 1.4. Set the value of `n_init` explicitly to suppress the warning\n",
            "  super()._check_params_vs_input(X, default_n_init=10)\n"
          ]
        }
      ]
    },
    {
      "cell_type": "markdown",
      "source": [
        "visualising all the clusters\n"
      ],
      "metadata": {
        "id": "FB0DX65lC2JG"
      }
    },
    {
      "cell_type": "code",
      "source": [
        "#plotting all the clusters and their centroids\n",
        "plt.figure(figsize=(8,8))\n",
        "plt.scatter(x[y==0,0],x[y==0,1],s=30,c='green',label='cluster1')\n",
        "plt.scatter(x[y==1,0],x[y==1,1],s=30,c='red',label='cluster2')\n",
        "plt.scatter(x[y==2,0],x[y==2,1],s=30,c='yellow',label='cluster3')\n",
        "plt.scatter(x[y==3,0],x[y==3,1],s=30,c='cyan',label='cluster4')\n",
        "#plot the centroids\n",
        "plt.scatter(kmeans.cluster_centers_[:,0],kmeans.cluster_centers_[:,1],s=100,c='blue',label='centroids')\n",
        "\n",
        "plt.title('customer-groups')\n",
        "plt.xlabel(' income')\n",
        "plt.ylabel('spending score')\n",
        "plt.show()"
      ],
      "metadata": {
        "colab": {
          "base_uri": "https://localhost:8080/",
          "height": 727
        },
        "id": "IkqNJ7XPCljs",
        "outputId": "50ab3542-a471-4bba-9bcd-4f0e62d8e10c"
      },
      "execution_count": null,
      "outputs": [
        {
          "output_type": "display_data",
          "data": {
            "text/plain": [
              "<Figure size 800x800 with 1 Axes>"
            ],
            "image/png": "[encoded data removed]"
          },
          "metadata": {}
        }
      ]
    },
    {
      "cell_type": "code",
      "source": [],
      "metadata": {
        "id": "2PigZ4VLFvBy"
      },
      "execution_count": null,
      "outputs": []
    }
  ]
}